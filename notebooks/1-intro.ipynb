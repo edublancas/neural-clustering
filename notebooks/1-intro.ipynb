{
 "cells": [
  {
   "cell_type": "markdown",
   "metadata": {},
   "source": [
    "# Spike sorting\n",
    "\n",
    "Eduardo Blancas"
   ]
  },
  {
   "cell_type": "markdown",
   "metadata": {},
   "source": [
    "## What is spike sorting?\n",
    "\n",
    "![spike_sort](static/spike-sort.jpg)\n",
    "\n",
    "**Grouping** of spikes into clusters based on the **similarity of their shapes.** Given that, each neuron tends to fire spikes of a particular shape, the resulting clusters correspond to the activity of different neurons. The end result of spike sorting is the determination of which spike corresponds to which of these neurons. (Quiroga, 2007)"
   ]
  },
  {
   "cell_type": "markdown",
   "metadata": {},
   "source": [
    "## Spike sorting pipeline\n",
    "\n",
    "![pipeline](http://www.scholarpedia.org/w/images/5/5b/QQ_Fig3.jpg)"
   ]
  },
  {
   "cell_type": "markdown",
   "metadata": {},
   "source": [
    "## Why is it important?\n",
    "\n",
    "Most projects involving analysis of neural data involve spike sorting as the first step, the analysis continues once the number of neurons and spike times have been determined."
   ]
  },
  {
   "cell_type": "markdown",
   "metadata": {},
   "source": [
    "## Scaling challenge in spike sorting\n",
    "\n",
    "A crucial consideration going forward is the ability to scale to massive datasets – MEAs (Multiple Electrode Arrays) currently scale\n",
    "up to the order of 10^4 electrodes, but efforts are underway to increase this number to 10^6 (Lee, 2017)."
   ]
  },
  {
   "cell_type": "markdown",
   "metadata": {},
   "source": [
    "## Clustering\n",
    "\n",
    "This projects focuses on the clustering step, once spikes have been detected, waveforms are extracted around the spike. Temporal dimensionality is reduced by using an autoencoder (31 to 3 dimensions), for this project we are considering all 7 spatial dimensions (one per channel) in the data, but we are currently working on scaling up clustering by only considering neighboring channels."
   ]
  },
  {
   "cell_type": "markdown",
   "metadata": {},
   "source": [
    "## Glossary\n",
    "\n",
    "I will be specific vocabulary to refer to the data and the results:\n",
    "\n",
    "* **Spike**: a point in time during the recordings where neuron activity is detected\n",
    "* **Clear spike**: a clean spike (no collisions, low noise levels)\n",
    "* **Waveform**: a small snippet around a spike time (whenever we detect a spike, we get the observations around it)\n",
    "* **Template**: once clustering is done, we collect waveforms in every spike time, we average them channel by channel and construct a template\n"
   ]
  },
  {
   "cell_type": "markdown",
   "metadata": {},
   "source": [
    "## References\n",
    "\n",
    "Quiroga, R. (2007) Spike Sorting. http://www.scholarpedia.org/article/Spike_sorting\n",
    "\n",
    "Lee, J. et al. (2017). YASS: Yet another spike sorter. Neural Information Processing Systems. Available in biorxiv: https://www.biorxiv.org/content/early/2017/06/19/151928"
   ]
  }
 ],
 "metadata": {
  "kernelspec": {
   "display_name": "Python 3",
   "language": "python",
   "name": "python3"
  },
  "language_info": {
   "codemirror_mode": {
    "name": "ipython",
    "version": 3
   },
   "file_extension": ".py",
   "mimetype": "text/x-python",
   "name": "python",
   "nbconvert_exporter": "python",
   "pygments_lexer": "ipython3",
   "version": "3.6.1"
  }
 },
 "nbformat": 4,
 "nbformat_minor": 2
}
