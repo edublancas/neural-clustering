{
 "cells": [
  {
   "cell_type": "markdown",
   "metadata": {},
   "source": [
    "# Model fitting and experiment listing\n",
    "\n",
    "This notebook shows how we can train models and list previously trained ones (along with useful information about them).\n",
    "\n",
    "**Important:** this is just a demo to show how models are trained, due to the way Edward manages Tensorflow sessions,\n",
    "each model should be trained in a different Python session, otherwise restoring it (notebooks 4-1 and 4-2 will throw errors."
   ]
  },
  {
   "cell_type": "code",
   "execution_count": 2,
   "metadata": {},
   "outputs": [
    {
     "name": "stderr",
     "output_type": "stream",
     "text": [
      "/Users/Edu/miniconda3/envs/test-project/lib/python3.6/importlib/_bootstrap.py:205: RuntimeWarning: compiletime version 3.5 of module 'tensorflow.python.framework.fast_tensor_util' does not match runtime version 3.6\n",
      "  return f(*args, **kwds)\n"
     ]
    }
   ],
   "source": [
    "import os\n",
    "\n",
    "import numpy as np\n",
    "\n",
    "from neural_clustering.model import dpmm, gmm, util\n",
    "from neural_clustering.criticize import summarize_experiments\n",
    "from neural_clustering import config"
   ]
  },
  {
   "cell_type": "code",
   "execution_count": 3,
   "metadata": {},
   "outputs": [],
   "source": [
    "import logging\n",
    "logging.basicConfig(level=logging.INFO)"
   ]
  },
  {
   "cell_type": "code",
   "execution_count": 4,
   "metadata": {},
   "outputs": [],
   "source": [
    "cfg = config.load('../config.yaml')"
   ]
  },
  {
   "cell_type": "markdown",
   "metadata": {},
   "source": [
    "## Model training"
   ]
  },
  {
   "cell_type": "markdown",
   "metadata": {},
   "source": [
    "### Load training data (generated in notebook 2)"
   ]
  },
  {
   "cell_type": "code",
   "execution_count": 5,
   "metadata": {},
   "outputs": [
    {
     "name": "stdout",
     "output_type": "stream",
     "text": [
      "x_train shape: (1876, 21)\n"
     ]
    }
   ],
   "source": [
    "x_train = np.load(os.path.join(cfg['root'], 'training.npy'))\n",
    "print(f'x_train shape: {x_train.shape}')"
   ]
  },
  {
   "cell_type": "markdown",
   "metadata": {},
   "source": [
    "### ...or generate toy dataset"
   ]
  },
  {
   "cell_type": "code",
   "execution_count": 6,
   "metadata": {},
   "outputs": [],
   "source": [
    "# x_train = util.build_toy_dataset(500)\n",
    "# print(f'x_train shape: {x_train.shape}')"
   ]
  },
  {
   "cell_type": "markdown",
   "metadata": {},
   "source": [
    "## (truncated) Dirichlet Process Mixture Model\n",
    "\n",
    "$$p(x_n | \\pi, \\mu, \\sigma) = \\sum_{k=1}^{K} \\pi_k \\mathrm{Normal}(x_n |\\; \\mu_k, \\sigma_k)$$\n",
    "\n",
    "$$ \\beta_k \\sim \\mathrm{Beta}(1,\\alpha) $$\n",
    "\n",
    "$$ \\pi_i = \\beta_i \\prod_{j=1}^{i-1}(1-\\beta_j) $$\n",
    "\n",
    "$$\\mu_k \\sim \\mathrm{Normal} (\\mu_k |\\; \\mathbf{0}, \\mathbf{I}) $$\n",
    "\n",
    "$$\\sigma_k^2 \\sim \\mathrm{Gamma}(\\sigma^2_k |\\; a, b) $$"
   ]
  },
  {
   "cell_type": "markdown",
   "metadata": {},
   "source": [
    "There is a bug in Edward that *sometimes* throws an error when fitting, it\n",
    "occurs more often with truncation levels > 5. It has been reported in [discourse](https://discourse.edwardlib.org/t/variational-inference-for-dirichlet-process-mixtures/251/2) already"
   ]
  },
  {
   "cell_type": "code",
   "execution_count": 14,
   "metadata": {
    "scrolled": false
   },
   "outputs": [
    {
     "name": "stdout",
     "output_type": "stream",
     "text": [
      "500/500 [100%] ██████████████████████████████ Elapsed: 6s | Loss: 512528.469\n"
     ]
    },
    {
     "name": "stderr",
     "output_type": "stream",
     "text": [
      "INFO:neural_clustering.model.dpmm:Session saved in /Users/Edu/data/neural-clustering/sessions/30-Nov-2017@15-18-08-DPMM/session.ckpt\n",
      "INFO:neural_clustering.model.dpmm:Training data saved in /Users/Edu/data/neural-clustering/sessions/30-Nov-2017@15-18-08-DPMM/training.npy\n",
      "INFO:neural_clustering.model.dpmm:Params saved in /Users/Edu/data/neural-clustering/sessions/30-Nov-2017@15-18-08-DPMM/params.yaml\n"
     ]
    }
   ],
   "source": [
    "# small number of iterations for testing\n",
    "dpmm.fit(x_train, truncation_level=3, cfg=cfg,\n",
    "         inference_params=dict(n_iter=500))"
   ]
  },
  {
   "cell_type": "markdown",
   "metadata": {},
   "source": [
    "## Gaussian Mixture Model\n",
    "\n",
    "$$p(x_n | \\pi, \\mu, \\sigma) = \\sum_{k=1}^{K} \\pi_k \\mathrm{Normal}(x_n |\\; \\mu_k, \\sigma_k)$$\n",
    "\n",
    "$$\\pi \\sim \\mathrm{Dirichlet}(\\pi, \\alpha \\mathbf{1}_K) $$\n",
    "\n",
    "$$\\mu_k \\sim \\mathrm{Normal} (\\mu_k |\\; \\mathbf{0}, \\mathbf{I}) $$\n",
    "\n",
    "$$\\sigma_k^2 \\sim \\mathrm{Gamma}(\\sigma^2_k |\\; a, b) $$"
   ]
  },
  {
   "cell_type": "code",
   "execution_count": 8,
   "metadata": {},
   "outputs": [
    {
     "name": "stderr",
     "output_type": "stream",
     "text": [
      "INFO:neural_clustering.model.gmm:Session saved in /Users/Edu/data/neural-clustering/sessions/30-Nov-2017@16-42-15-GMM/session.ckpt\n",
      "INFO:neural_clustering.model.gmm:Training data saved in /Users/Edu/data/neural-clustering/sessions/30-Nov-2017@16-42-15-GMM/training.npy\n",
      "INFO:neural_clustering.model.gmm:Params saved in /Users/Edu/data/neural-clustering/sessions/30-Nov-2017@16-42-15-GMM/params.yaml\n"
     ]
    }
   ],
   "source": [
    "# small number of iterations for testing\n",
    "gmm.fit(x_train, k=13, cfg=cfg, samples=10)"
   ]
  },
  {
   "cell_type": "markdown",
   "metadata": {},
   "source": [
    "## List experiments\n",
    "\n",
    "List all previously trained models along with some useful information."
   ]
  },
  {
   "cell_type": "code",
   "execution_count": 5,
   "metadata": {},
   "outputs": [
    {
     "data": {
      "text/html": [
       "<table>\n",
       "<thead>\n",
       "<tr><th>inference_algoritm  </th><th style=\"text-align: right;\">  truncation_level</th><th>git_hash           </th><th>name                     </th><th>timestamp                 </th><th style=\"text-align: right;\">  k</th><th>model_type  </th><th style=\"text-align: right;\">  samples</th><th>inference_params                 </th></tr>\n",
       "</thead>\n",
       "<tbody>\n",
       "<tr><td>KLqp                </td><td style=\"text-align: right;\">                 3</td><td>476d12b model fixes</td><td>30-Nov-2017@17-11-26-DPMM</td><td>2017-11-30T17:11:26.232029</td><td style=\"text-align: right;\">   </td><td>DPMM        </td><td style=\"text-align: right;\">         </td><td>{'n_iter': 50000, 'n_samples': 3}</td></tr>\n",
       "<tr><td>Gibbs               </td><td style=\"text-align: right;\">                  </td><td>476d12b model fixes</td><td>30-Nov-2017@16-58-38-GMM </td><td>2017-11-30T16:58:38.420122</td><td style=\"text-align: right;\"> 10</td><td>GMM         </td><td style=\"text-align: right;\">     3000</td><td>                                 </td></tr>\n",
       "<tr><td>KLqp                </td><td style=\"text-align: right;\">                 5</td><td>476d12b model fixes</td><td>30-Nov-2017@17-17-25-DPMM</td><td>2017-11-30T17:17:25.008087</td><td style=\"text-align: right;\">   </td><td>DPMM        </td><td style=\"text-align: right;\">         </td><td>{'n_iter': 50000, 'n_samples': 3}</td></tr>\n",
       "<tr><td>Gibbs               </td><td style=\"text-align: right;\">                  </td><td>476d12b model fixes</td><td>30-Nov-2017@16-53-17-GMM </td><td>2017-11-30T16:53:17.493203</td><td style=\"text-align: right;\">  5</td><td>GMM         </td><td style=\"text-align: right;\">     3000</td><td>                                 </td></tr>\n",
       "<tr><td>KLqp                </td><td style=\"text-align: right;\">                10</td><td>476d12b model fixes</td><td>30-Nov-2017@17-25-22-DPMM</td><td>2017-11-30T17:25:22.180357</td><td style=\"text-align: right;\">   </td><td>DPMM        </td><td style=\"text-align: right;\">         </td><td>{'n_iter': 50000, 'n_samples': 3}</td></tr>\n",
       "<tr><td>Gibbs               </td><td style=\"text-align: right;\">                  </td><td>476d12b model fixes</td><td>30-Nov-2017@17-07-40-GMM </td><td>2017-11-30T17:07:40.444634</td><td style=\"text-align: right;\"> 15</td><td>GMM         </td><td style=\"text-align: right;\">     3000</td><td>                                 </td></tr>\n",
       "</tbody>\n",
       "</table>"
      ],
      "text/plain": [
       "<neural_clustering.explore.table.Table at 0x112382550>"
      ]
     },
     "execution_count": 5,
     "metadata": {},
     "output_type": "execute_result"
    }
   ],
   "source": [
    "summarize_experiments(cfg)"
   ]
  },
  {
   "cell_type": "code",
   "execution_count": null,
   "metadata": {},
   "outputs": [],
   "source": []
  }
 ],
 "metadata": {
  "kernelspec": {
   "display_name": "Python 3",
   "language": "python",
   "name": "python3"
  },
  "language_info": {
   "codemirror_mode": {
    "name": "ipython",
    "version": 3
   },
   "file_extension": ".py",
   "mimetype": "text/x-python",
   "name": "python",
   "nbconvert_exporter": "python",
   "pygments_lexer": "ipython3",
   "version": "3.6.1"
  }
 },
 "nbformat": 4,
 "nbformat_minor": 2
}
