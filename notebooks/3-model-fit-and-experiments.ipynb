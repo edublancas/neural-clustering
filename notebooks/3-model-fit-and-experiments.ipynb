{
 "cells": [
  {
   "cell_type": "markdown",
   "metadata": {},
   "source": [
    "# Model fitting and experiment listing"
   ]
  },
  {
   "cell_type": "code",
   "execution_count": 5,
   "metadata": {},
   "outputs": [
    {
     "name": "stdout",
     "output_type": "stream",
     "text": [
      "The autoreload extension is already loaded. To reload it, use:\n",
      "  %reload_ext autoreload\n"
     ]
    }
   ],
   "source": [
    "%load_ext autoreload\n",
    "%autoreload 2"
   ]
  },
  {
   "cell_type": "code",
   "execution_count": 10,
   "metadata": {},
   "outputs": [],
   "source": [
    "import numpy as np\n",
    "\n",
    "from neural_clustering.model import dpmm, gmm, util\n",
    "from neural_clustering.criticize import summarize_experiments\n",
    "from neural_clustering import config"
   ]
  },
  {
   "cell_type": "code",
   "execution_count": 7,
   "metadata": {},
   "outputs": [],
   "source": [
    "import logging\n",
    "logging.basicConfig(level=logging.INFO)"
   ]
  },
  {
   "cell_type": "markdown",
   "metadata": {},
   "source": [
    "# Model training"
   ]
  },
  {
   "cell_type": "markdown",
   "metadata": {},
   "source": [
    "## Generate toy dataset (for an example about training models)"
   ]
  },
  {
   "cell_type": "code",
   "execution_count": 12,
   "metadata": {},
   "outputs": [
    {
     "name": "stderr",
     "output_type": "stream",
     "text": [
      "INFO:neural_clustering.model.util:Generated data from two bi-variate normals std=1 (diagonal), mu1 = [5, 5], mu2=[-5, -5]\n"
     ]
    }
   ],
   "source": [
    "cfg = config.load('../config.yaml')\n",
    "x_train = util.build_toy_dataset(500)"
   ]
  },
  {
   "cell_type": "markdown",
   "metadata": {},
   "source": [
    "## DPMM"
   ]
  },
  {
   "cell_type": "code",
   "execution_count": 9,
   "metadata": {
    "scrolled": false
   },
   "outputs": [
    {
     "name": "stdout",
     "output_type": "stream",
     "text": [
      "1000/1000 [100%] ██████████████████████████████ Elapsed: 3s | Loss: 16050.037\n"
     ]
    },
    {
     "name": "stderr",
     "output_type": "stream",
     "text": [
      "INFO:neural_clustering.model.dpmm:Session saved in /Users/Edu/data/neural-clustering-toy/sessions/28-Nov-2017@23-22-39-DPMM/session.ckpt\n",
      "INFO:neural_clustering.model.dpmm:Training data saved in /Users/Edu/data/neural-clustering-toy/sessions/28-Nov-2017@23-22-39-DPMM/training.npy\n",
      "INFO:neural_clustering.model.dpmm:Params saved in /Users/Edu/data/neural-clustering-toy/sessions/28-Nov-2017@23-22-39-DPMM/params.yaml\n"
     ]
    }
   ],
   "source": [
    "dpmm.fit(x_train, truncation_level=2, cfg=cfg,\n",
    "         inference_params=dict(n_iter=500))"
   ]
  },
  {
   "cell_type": "markdown",
   "metadata": {},
   "source": [
    "## GMM"
   ]
  },
  {
   "cell_type": "code",
   "execution_count": 6,
   "metadata": {},
   "outputs": [
    {
     "name": "stdout",
     "output_type": "stream",
     "text": [
      "1000/1000 [100%] ██████████████████████████████ Elapsed: 9s | Acceptance Rate: 1.000\n"
     ]
    },
    {
     "name": "stderr",
     "output_type": "stream",
     "text": [
      "INFO:neural_clustering.model.gmm:Session saved in /Users/Edu/data/neural-clustering-toy/sessions/28-Nov-2017@17-32-31-GMM/session.ckpt\n",
      "INFO:neural_clustering.model.gmm:Training data saved in /Users/Edu/data/neural-clustering-toy/sessions/28-Nov-2017@17-32-31-GMM/training.npy\n",
      "INFO:neural_clustering.model.gmm:Params saved in /Users/Edu/data/neural-clustering-toy/sessions/28-Nov-2017@17-32-31-GMM/params.yaml\n"
     ]
    }
   ],
   "source": [
    "gmm.fit(x_train, k=2, cfg=cfg, samples=1000)"
   ]
  },
  {
   "cell_type": "markdown",
   "metadata": {},
   "source": [
    "# List experiments"
   ]
  },
  {
   "cell_type": "code",
   "execution_count": 11,
   "metadata": {},
   "outputs": [
    {
     "data": {
      "text/html": [
       "<table>\n",
       "<thead>\n",
       "<tr><th>inference_params                                </th><th style=\"text-align: right;\">  truncation_level</th><th>git_hash                                            </th><th style=\"text-align: right;\">  samples</th><th style=\"text-align: right;\">  k</th><th>name                     </th><th>inference_algoritm  </th><th>timestamp                 </th><th>model_type  </th></tr>\n",
       "</thead>\n",
       "<tbody>\n",
       "<tr><td>{'n_iter': 500}                                 </td><td style=\"text-align: right;\">                 2</td><td>bdc6a02 updates restore functions                   </td><td style=\"text-align: right;\">         </td><td style=\"text-align: right;\">   </td><td>28-Nov-2017@23-02-40-DPMM</td><td>KLqp                </td><td>2017-11-28T23:02:40.493412</td><td>DPMM        </td></tr>\n",
       "<tr><td>{'n_iter': 500}                                 </td><td style=\"text-align: right;\">                 2</td><td>4395fdf updates restore dpmm session                </td><td style=\"text-align: right;\">         </td><td style=\"text-align: right;\">   </td><td>28-Nov-2017@22-54-55-DPMM</td><td>KLqp                </td><td>2017-11-28T22:54:55.815688</td><td>DPMM        </td></tr>\n",
       "<tr><td>{'n_iter': 500}                                 </td><td style=\"text-align: right;\">                 2</td><td>bdc6a02 updates restore functions                   </td><td style=\"text-align: right;\">         </td><td style=\"text-align: right;\">   </td><td>28-Nov-2017@23-22-39-DPMM</td><td>KLqp                </td><td>2017-11-28T23:22:39.799263</td><td>DPMM        </td></tr>\n",
       "<tr><td>{'n_iter': 500}                                 </td><td style=\"text-align: right;\">                 2</td><td>4395fdf updates restore dpmm session                </td><td style=\"text-align: right;\">         </td><td style=\"text-align: right;\">   </td><td>28-Nov-2017@22-51-07-DPMM</td><td>KLqp                </td><td>2017-11-28T22:51:07.079464</td><td>DPMM        </td></tr>\n",
       "<tr><td>                                                </td><td style=\"text-align: right;\">                  </td><td>c1c5aa4 restore gmm now returns posterior predictive</td><td style=\"text-align: right;\">     1000</td><td style=\"text-align: right;\">  2</td><td>28-Nov-2017@17-32-31-GMM </td><td>Gibbs               </td><td>2017-11-28T17:32:31.536424</td><td>GMM         </td></tr>\n",
       "<tr><td>{'n_iter': 500}                                 </td><td style=\"text-align: right;\">                 2</td><td>bdc6a02 updates restore functions                   </td><td style=\"text-align: right;\">         </td><td style=\"text-align: right;\">   </td><td>28-Nov-2017@22-56-00-DPMM</td><td>KLqp                </td><td>2017-11-28T22:56:00.439278</td><td>DPMM        </td></tr>\n",
       "<tr><td>{'n_iter': 5000}                                </td><td style=\"text-align: right;\">                 5</td><td>4395fdf updates restore dpmm session                </td><td style=\"text-align: right;\">         </td><td style=\"text-align: right;\">   </td><td>28-Nov-2017@22-50-12-DPMM</td><td>KLqp                </td><td>2017-11-28T22:50:12.425683</td><td>DPMM        </td></tr>\n",
       "<tr><td>{'n_iter': 5000, 'n_print': 100, 'n_samples': 3}</td><td style=\"text-align: right;\">                 5</td><td>4395fdf updates restore dpmm session                </td><td style=\"text-align: right;\">         </td><td style=\"text-align: right;\">   </td><td>28-Nov-2017@22-48-35-DPMM</td><td>KLqp                </td><td>2017-11-28T22:48:35.978705</td><td>DPMM        </td></tr>\n",
       "</tbody>\n",
       "</table>"
      ],
      "text/plain": [
       "<neural_clustering.explore.table.Table at 0x122ab4e10>"
      ]
     },
     "execution_count": 11,
     "metadata": {},
     "output_type": "execute_result"
    }
   ],
   "source": [
    "summarize_experiments(cfg)"
   ]
  }
 ],
 "metadata": {
  "kernelspec": {
   "display_name": "Python 3",
   "language": "python",
   "name": "python3"
  },
  "language_info": {
   "codemirror_mode": {
    "name": "ipython",
    "version": 3
   },
   "file_extension": ".py",
   "mimetype": "text/x-python",
   "name": "python",
   "nbconvert_exporter": "python",
   "pygments_lexer": "ipython3",
   "version": "3.6.3"
  }
 },
 "nbformat": 4,
 "nbformat_minor": 2
}
