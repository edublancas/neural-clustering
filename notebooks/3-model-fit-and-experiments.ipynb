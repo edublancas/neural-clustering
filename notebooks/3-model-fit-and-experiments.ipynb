{
 "cells": [
  {
   "cell_type": "markdown",
   "metadata": {},
   "source": [
    "# Model fitting and experiment listing\n",
    "\n",
    "This notebook shows how we can train models and list previously trained ones (along with useful information about them)."
   ]
  },
  {
   "cell_type": "code",
   "execution_count": 1,
   "metadata": {},
   "outputs": [],
   "source": [
    "%load_ext autoreload\n",
    "%autoreload 2"
   ]
  },
  {
   "cell_type": "code",
   "execution_count": 2,
   "metadata": {},
   "outputs": [
    {
     "name": "stderr",
     "output_type": "stream",
     "text": [
      "/home/eduardo/miniconda3/envs/noise/lib/python3.6/importlib/_bootstrap.py:219: RuntimeWarning: compiletime version 3.5 of module 'tensorflow.python.framework.fast_tensor_util' does not match runtime version 3.6\n",
      "  return f(*args, **kwds)\n"
     ]
    }
   ],
   "source": [
    "import os\n",
    "\n",
    "import numpy as np\n",
    "\n",
    "from neural_clustering.model import dpmm, gmm, util\n",
    "from neural_clustering.criticize import summarize_experiments\n",
    "from neural_clustering import config"
   ]
  },
  {
   "cell_type": "code",
   "execution_count": 3,
   "metadata": {},
   "outputs": [],
   "source": [
    "import logging\n",
    "logging.basicConfig(level=logging.INFO)"
   ]
  },
  {
   "cell_type": "code",
   "execution_count": 4,
   "metadata": {},
   "outputs": [],
   "source": [
    "cfg = config.load('../server_config.yaml')"
   ]
  },
  {
   "cell_type": "markdown",
   "metadata": {},
   "source": [
    "# Model training"
   ]
  },
  {
   "cell_type": "markdown",
   "metadata": {},
   "source": [
    "## Load training data (generated in notebook 2)"
   ]
  },
  {
   "cell_type": "code",
   "execution_count": 5,
   "metadata": {},
   "outputs": [
    {
     "name": "stdout",
     "output_type": "stream",
     "text": [
      "x_train shape: (1876, 21)\n"
     ]
    }
   ],
   "source": [
    "x_train = np.load(os.path.join(cfg['root'], 'training.npy'))\n",
    "print(f'x_train shape: {x_train.shape}')"
   ]
  },
  {
   "cell_type": "markdown",
   "metadata": {},
   "source": [
    "## ...or generate toy dataset"
   ]
  },
  {
   "cell_type": "code",
   "execution_count": 11,
   "metadata": {},
   "outputs": [
    {
     "name": "stderr",
     "output_type": "stream",
     "text": [
      "INFO:neural_clustering.model.util:Generated data from two bi-variate normals std=1 (diagonal), mu1 = [5, 5], mu2=[-5, -5]\n"
     ]
    },
    {
     "name": "stdout",
     "output_type": "stream",
     "text": [
      "x_train shape: (500, 2)\n"
     ]
    }
   ],
   "source": [
    "x_train = util.build_toy_dataset(500)\n",
    "print(f'x_train shape: {x_train.shape}')"
   ]
  },
  {
   "cell_type": "markdown",
   "metadata": {},
   "source": [
    "## (truncated) Dirichlet Process Mixture Model\n",
    "\n",
    "$$p(x_n | \\pi, \\mu, \\sigma) = \\sum_{k=1}^{K} \\pi_k \\mathrm{Normal}(x_n |\\; \\mu_k, \\sigma_k)$$\n",
    "\n",
    "$$ \\beta_k \\sim \\mathrm{Beta}(1,\\alpha) $$\n",
    "\n",
    "$$ \\pi_i = \\beta_i \\prod_{j=1}^{i-1}(1-\\beta_j) $$\n",
    "\n",
    "$$\\mu_k \\sim \\mathrm{Normal} (\\mu_k |\\; \\mathbf{0}, \\mathbf{I}) $$\n",
    "\n",
    "$$\\sigma_k^2 \\sim \\mathrm{Gamma}(\\sigma^2_k |\\; a, b) $$"
   ]
  },
  {
   "cell_type": "code",
   "execution_count": 9,
   "metadata": {
    "scrolled": false
   },
   "outputs": [
    {
     "name": "stdout",
     "output_type": "stream",
     "text": [
      "1000/1000 [100%] ██████████████████████████████ Elapsed: 3s | Loss: 16050.037\n"
     ]
    },
    {
     "name": "stderr",
     "output_type": "stream",
     "text": [
      "INFO:neural_clustering.model.dpmm:Session saved in /Users/Edu/data/neural-clustering-toy/sessions/28-Nov-2017@23-22-39-DPMM/session.ckpt\n",
      "INFO:neural_clustering.model.dpmm:Training data saved in /Users/Edu/data/neural-clustering-toy/sessions/28-Nov-2017@23-22-39-DPMM/training.npy\n",
      "INFO:neural_clustering.model.dpmm:Params saved in /Users/Edu/data/neural-clustering-toy/sessions/28-Nov-2017@23-22-39-DPMM/params.yaml\n"
     ]
    }
   ],
   "source": [
    "dpmm.fit(x_train, truncation_level=2, cfg=cfg,\n",
    "         inference_params=dict(n_iter=500))"
   ]
  },
  {
   "cell_type": "markdown",
   "metadata": {},
   "source": [
    "## Gaussian Mixture Model\n",
    "\n",
    "$$p(x_n | \\pi, \\mu, \\sigma) = \\sum_{k=1}^{K} \\pi_k \\mathrm{Normal}(x_n |\\; \\mu_k, \\sigma_k)$$\n",
    "\n",
    "$$\\pi \\sim \\mathrm{Dirichlet}(\\pi, \\alpha \\mathbf{1}_K) $$\n",
    "\n",
    "$$\\mu_k \\sim \\mathrm{Normal} (\\mu_k |\\; \\mathbf{0}, \\mathbf{I}) $$\n",
    "\n",
    "$$\\sigma_k^2 \\sim \\mathrm{Gamma}(\\sigma^2_k |\\; a, b) $$"
   ]
  },
  {
   "cell_type": "code",
   "execution_count": 6,
   "metadata": {},
   "outputs": [
    {
     "name": "stdout",
     "output_type": "stream",
     "text": [
      "1000/1000 [100%] ██████████████████████████████ Elapsed: 9s | Acceptance Rate: 1.000\n"
     ]
    },
    {
     "name": "stderr",
     "output_type": "stream",
     "text": [
      "INFO:neural_clustering.model.gmm:Session saved in /Users/Edu/data/neural-clustering-toy/sessions/28-Nov-2017@17-32-31-GMM/session.ckpt\n",
      "INFO:neural_clustering.model.gmm:Training data saved in /Users/Edu/data/neural-clustering-toy/sessions/28-Nov-2017@17-32-31-GMM/training.npy\n",
      "INFO:neural_clustering.model.gmm:Params saved in /Users/Edu/data/neural-clustering-toy/sessions/28-Nov-2017@17-32-31-GMM/params.yaml\n"
     ]
    }
   ],
   "source": [
    "gmm.fit(x_train, k=2, cfg=cfg, samples=1000)"
   ]
  },
  {
   "cell_type": "markdown",
   "metadata": {},
   "source": [
    "# List experiments\n",
    "\n",
    "List all previously trained models along with some useful information."
   ]
  },
  {
   "cell_type": "code",
   "execution_count": 6,
   "metadata": {},
   "outputs": [
    {
     "data": {
      "text/html": [
       "<table>\n",
       "<thead>\n",
       "<tr><th>inference_algoritm  </th><th>inference_params  </th><th style=\"text-align: right;\">  k</th><th>name                    </th><th>timestamp                 </th><th>git_hash                            </th><th>model_type  </th><th style=\"text-align: right;\">  samples</th></tr>\n",
       "</thead>\n",
       "<tbody>\n",
       "<tr><td>Gibbs               </td><td>                  </td><td style=\"text-align: right;\"> 20</td><td>29-Nov-2017@12-02-58-GMM</td><td>2017-11-29T12:02:58.317289</td><td>ec6c239 automatically create tmp dir</td><td>GMM         </td><td style=\"text-align: right;\">    10000</td></tr>\n",
       "</tbody>\n",
       "</table>"
      ],
      "text/plain": [
       "<neural_clustering.explore.table.Table at 0x7fe48184c780>"
      ]
     },
     "execution_count": 6,
     "metadata": {},
     "output_type": "execute_result"
    }
   ],
   "source": [
    "summarize_experiments(cfg)"
   ]
  }
 ],
 "metadata": {
  "kernelspec": {
   "display_name": "Python 3",
   "language": "python",
   "name": "python3"
  },
  "language_info": {
   "codemirror_mode": {
    "name": "ipython",
    "version": 3
   },
   "file_extension": ".py",
   "mimetype": "text/x-python",
   "name": "python",
   "nbconvert_exporter": "python",
   "pygments_lexer": "ipython3",
   "version": "3.6.1"
  }
 },
 "nbformat": 4,
 "nbformat_minor": 2
}
