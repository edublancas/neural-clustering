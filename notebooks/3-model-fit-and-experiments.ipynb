{
 "cells": [
  {
   "cell_type": "markdown",
   "metadata": {},
   "source": [
    "# Model fitting and experiment listing\n",
    "\n",
    "This notebook shows how we can train models and list previously trained ones (along with useful information about them)."
   ]
  },
  {
   "cell_type": "code",
   "execution_count": 2,
   "metadata": {},
   "outputs": [],
   "source": [
    "%load_ext autoreload\n",
    "%autoreload 2"
   ]
  },
  {
   "cell_type": "code",
   "execution_count": 3,
   "metadata": {},
   "outputs": [
    {
     "name": "stderr",
     "output_type": "stream",
     "text": [
      "/Users/Edu/miniconda3/envs/test-project/lib/python3.6/importlib/_bootstrap.py:205: RuntimeWarning: compiletime version 3.5 of module 'tensorflow.python.framework.fast_tensor_util' does not match runtime version 3.6\n",
      "  return f(*args, **kwds)\n"
     ]
    }
   ],
   "source": [
    "import os\n",
    "\n",
    "import numpy as np\n",
    "\n",
    "from neural_clustering.model import dpmm, gmm, util\n",
    "from neural_clustering.criticize import summarize_experiments\n",
    "from neural_clustering import config"
   ]
  },
  {
   "cell_type": "code",
   "execution_count": 4,
   "metadata": {},
   "outputs": [],
   "source": [
    "import logging\n",
    "logging.basicConfig(level=logging.INFO)"
   ]
  },
  {
   "cell_type": "code",
   "execution_count": 5,
   "metadata": {},
   "outputs": [],
   "source": [
    "cfg = config.load('../config.yaml')"
   ]
  },
  {
   "cell_type": "markdown",
   "metadata": {},
   "source": [
    "# Model training"
   ]
  },
  {
   "cell_type": "markdown",
   "metadata": {},
   "source": [
    "## Load training data (generated in notebook 2)"
   ]
  },
  {
   "cell_type": "code",
   "execution_count": 6,
   "metadata": {},
   "outputs": [
    {
     "name": "stdout",
     "output_type": "stream",
     "text": [
      "x_train shape: (1876, 21)\n"
     ]
    }
   ],
   "source": [
    "x_train = np.load(os.path.join(cfg['root'], 'training.npy'))\n",
    "print(f'x_train shape: {x_train.shape}')"
   ]
  },
  {
   "cell_type": "markdown",
   "metadata": {},
   "source": [
    "## ...or generate toy dataset"
   ]
  },
  {
   "cell_type": "code",
   "execution_count": 10,
   "metadata": {},
   "outputs": [],
   "source": [
    "# x_train = util.build_toy_dataset(500)\n",
    "# print(f'x_train shape: {x_train.shape}')"
   ]
  },
  {
   "cell_type": "markdown",
   "metadata": {},
   "source": [
    "## (truncated) Dirichlet Process Mixture Model\n",
    "\n",
    "$$p(x_n | \\pi, \\mu, \\sigma) = \\sum_{k=1}^{K} \\pi_k \\mathrm{Normal}(x_n |\\; \\mu_k, \\sigma_k)$$\n",
    "\n",
    "$$ \\beta_k \\sim \\mathrm{Beta}(1,\\alpha) $$\n",
    "\n",
    "$$ \\pi_i = \\beta_i \\prod_{j=1}^{i-1}(1-\\beta_j) $$\n",
    "\n",
    "$$\\mu_k \\sim \\mathrm{Normal} (\\mu_k |\\; \\mathbf{0}, \\mathbf{I}) $$\n",
    "\n",
    "$$\\sigma_k^2 \\sim \\mathrm{Gamma}(\\sigma^2_k |\\; a, b) $$"
   ]
  },
  {
   "cell_type": "code",
   "execution_count": 14,
   "metadata": {
    "scrolled": false
   },
   "outputs": [
    {
     "name": "stdout",
     "output_type": "stream",
     "text": [
      "500/500 [100%] ██████████████████████████████ Elapsed: 6s | Loss: 512528.469\n"
     ]
    },
    {
     "name": "stderr",
     "output_type": "stream",
     "text": [
      "INFO:neural_clustering.model.dpmm:Session saved in /Users/Edu/data/neural-clustering/sessions/30-Nov-2017@15-18-08-DPMM/session.ckpt\n",
      "INFO:neural_clustering.model.dpmm:Training data saved in /Users/Edu/data/neural-clustering/sessions/30-Nov-2017@15-18-08-DPMM/training.npy\n",
      "INFO:neural_clustering.model.dpmm:Params saved in /Users/Edu/data/neural-clustering/sessions/30-Nov-2017@15-18-08-DPMM/params.yaml\n"
     ]
    }
   ],
   "source": [
    "# small number of iterations for testing\n",
    "dpmm.fit(x_train, truncation_level=5, cfg=cfg,\n",
    "         inference_params=dict(n_iter=500))"
   ]
  },
  {
   "cell_type": "markdown",
   "metadata": {},
   "source": [
    "## Gaussian Mixture Model\n",
    "\n",
    "$$p(x_n | \\pi, \\mu, \\sigma) = \\sum_{k=1}^{K} \\pi_k \\mathrm{Normal}(x_n |\\; \\mu_k, \\sigma_k)$$\n",
    "\n",
    "$$\\pi \\sim \\mathrm{Dirichlet}(\\pi, \\alpha \\mathbf{1}_K) $$\n",
    "\n",
    "$$\\mu_k \\sim \\mathrm{Normal} (\\mu_k |\\; \\mathbf{0}, \\mathbf{I}) $$\n",
    "\n",
    "$$\\sigma_k^2 \\sim \\mathrm{Gamma}(\\sigma^2_k |\\; a, b) $$"
   ]
  },
  {
   "cell_type": "code",
   "execution_count": 15,
   "metadata": {},
   "outputs": [
    {
     "name": "stderr",
     "output_type": "stream",
     "text": [
      "INFO:neural_clustering.model.gmm:Session saved in /Users/Edu/data/neural-clustering/sessions/30-Nov-2017@15-18-31-GMM/session.ckpt\n",
      "INFO:neural_clustering.model.gmm:Training data saved in /Users/Edu/data/neural-clustering/sessions/30-Nov-2017@15-18-31-GMM/training.npy\n",
      "INFO:neural_clustering.model.gmm:Params saved in /Users/Edu/data/neural-clustering/sessions/30-Nov-2017@15-18-31-GMM/params.yaml\n"
     ]
    }
   ],
   "source": [
    "# small number of iterations for testing\n",
    "gmm.fit(x_train, k=2, cfg=cfg, samples=10)"
   ]
  },
  {
   "cell_type": "markdown",
   "metadata": {},
   "source": [
    "# List experiments\n",
    "\n",
    "List all previously trained models along with some useful information."
   ]
  },
  {
   "cell_type": "code",
   "execution_count": 16,
   "metadata": {},
   "outputs": [
    {
     "data": {
      "text/html": [
       "<table>\n",
       "<thead>\n",
       "<tr><th>inference_params  </th><th>name                     </th><th>model_type  </th><th>git_hash                                     </th><th>inference_algoritm  </th><th style=\"text-align: right;\">  truncation_level</th><th>timestamp                 </th><th style=\"text-align: right;\">  samples</th><th style=\"text-align: right;\">  k</th></tr>\n",
       "</thead>\n",
       "<tbody>\n",
       "<tr><td>{'n_iter': 500}   </td><td>30-Nov-2017@15-11-16-DPMM</td><td>DPMM        </td><td>d7ee49a adds script for checking installation</td><td>KLqp                </td><td style=\"text-align: right;\">                 4</td><td>2017-11-30T15:11:16.899501</td><td style=\"text-align: right;\">         </td><td style=\"text-align: right;\">   </td></tr>\n",
       "<tr><td>{'n_iter': 500}   </td><td>30-Nov-2017@15-11-49-DPMM</td><td>DPMM        </td><td>d7ee49a adds script for checking installation</td><td>KLqp                </td><td style=\"text-align: right;\">                 5</td><td>2017-11-30T15:11:49.588493</td><td style=\"text-align: right;\">         </td><td style=\"text-align: right;\">   </td></tr>\n",
       "<tr><td>                  </td><td>30-Nov-2017@15-18-31-GMM </td><td>GMM         </td><td>d7ee49a adds script for checking installation</td><td>Gibbs               </td><td style=\"text-align: right;\">                  </td><td>2017-11-30T15:18:31.565896</td><td style=\"text-align: right;\">       10</td><td style=\"text-align: right;\">  2</td></tr>\n",
       "<tr><td>{'n_iter': 500}   </td><td>30-Nov-2017@15-18-08-DPMM</td><td>DPMM        </td><td>d7ee49a adds script for checking installation</td><td>KLqp                </td><td style=\"text-align: right;\">                 5</td><td>2017-11-30T15:18:08.805416</td><td style=\"text-align: right;\">         </td><td style=\"text-align: right;\">   </td></tr>\n",
       "<tr><td>{'n_iter': 500}   </td><td>30-Nov-2017@14-59-38-DPMM</td><td>DPMM        </td><td>d7ee49a adds script for checking installation</td><td>KLqp                </td><td style=\"text-align: right;\">                 2</td><td>2017-11-30T14:59:38.406453</td><td style=\"text-align: right;\">         </td><td style=\"text-align: right;\">   </td></tr>\n",
       "<tr><td>                  </td><td>30-Nov-2017@14-59-55-GMM </td><td>GMM         </td><td>d7ee49a adds script for checking installation</td><td>Gibbs               </td><td style=\"text-align: right;\">                  </td><td>2017-11-30T14:59:55.720688</td><td style=\"text-align: right;\">     1000</td><td style=\"text-align: right;\">  2</td></tr>\n",
       "<tr><td>{'n_iter': 500}   </td><td>30-Nov-2017@15-12-12-DPMM</td><td>DPMM        </td><td>d7ee49a adds script for checking installation</td><td>KLqp                </td><td style=\"text-align: right;\">                 6</td><td>2017-11-30T15:12:12.058732</td><td style=\"text-align: right;\">         </td><td style=\"text-align: right;\">   </td></tr>\n",
       "<tr><td>{'n_iter': 500}   </td><td>30-Nov-2017@15-12-28-DPMM</td><td>DPMM        </td><td>d7ee49a adds script for checking installation</td><td>KLqp                </td><td style=\"text-align: right;\">                10</td><td>2017-11-30T15:12:28.923101</td><td style=\"text-align: right;\">         </td><td style=\"text-align: right;\">   </td></tr>\n",
       "</tbody>\n",
       "</table>"
      ],
      "text/plain": [
       "<neural_clustering.explore.table.Table at 0x1259c6c50>"
      ]
     },
     "execution_count": 16,
     "metadata": {},
     "output_type": "execute_result"
    }
   ],
   "source": [
    "summarize_experiments(cfg)"
   ]
  },
  {
   "cell_type": "code",
   "execution_count": null,
   "metadata": {},
   "outputs": [],
   "source": []
  }
 ],
 "metadata": {
  "kernelspec": {
   "display_name": "Python 3",
   "language": "python",
   "name": "python3"
  },
  "language_info": {
   "codemirror_mode": {
    "name": "ipython",
    "version": 3
   },
   "file_extension": ".py",
   "mimetype": "text/x-python",
   "name": "python",
   "nbconvert_exporter": "python",
   "pygments_lexer": "ipython3",
   "version": "3.6.1"
  }
 },
 "nbformat": 4,
 "nbformat_minor": 2
}
