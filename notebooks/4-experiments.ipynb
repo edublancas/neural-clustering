{
 "cells": [
  {
   "cell_type": "markdown",
   "metadata": {},
   "source": [
    "# Model criticism"
   ]
  },
  {
   "cell_type": "code",
   "execution_count": 1,
   "metadata": {},
   "outputs": [],
   "source": [
    "%load_ext autoreload\n",
    "%autoreload 2\n",
    "%matplotlib inline\n",
    "\n",
    "import logging\n",
    "import os\n",
    "\n",
    "import numpy as np\n",
    "import edward as ed\n",
    "import tensorflow as tf\n",
    "import matplotlib.pyplot as plt\n",
    "\n",
    "from neural_clustering.criticize import (summarize_experiments,\n",
    "                                         plot, restore,\n",
    "                                         store_cluster_assignments, ppc_plot)\n",
    "from neural_clustering import config"
   ]
  },
  {
   "cell_type": "code",
   "execution_count": 2,
   "metadata": {},
   "outputs": [],
   "source": [
    "plt.style.use('ggplot')\n",
    "plt.rcParams['figure.figsize'] = (15, 5)\n",
    "\n",
    "logging.basicConfig(level=logging.INFO)"
   ]
  },
  {
   "cell_type": "code",
   "execution_count": 3,
   "metadata": {},
   "outputs": [],
   "source": [
    "cfg = config.load('../config.yaml')"
   ]
  },
  {
   "cell_type": "code",
   "execution_count": 4,
   "metadata": {},
   "outputs": [
    {
     "data": {
      "text/html": [
       "<table>\n",
       "<thead>\n",
       "<tr><th>name                     </th><th>model_type  </th><th style=\"text-align: right;\">  truncation_level</th><th style=\"text-align: right;\">  samples</th><th>inference_algoritm  </th><th>timestamp                 </th><th>git_hash                                            </th><th>inference_params                                </th><th style=\"text-align: right;\">  k</th></tr>\n",
       "</thead>\n",
       "<tbody>\n",
       "<tr><td>28-Nov-2017@23-02-40-DPMM</td><td>DPMM        </td><td style=\"text-align: right;\">                 2</td><td style=\"text-align: right;\">         </td><td>KLqp                </td><td>2017-11-28T23:02:40.493412</td><td>bdc6a02 updates restore functions                   </td><td>{'n_iter': 500}                                 </td><td style=\"text-align: right;\">   </td></tr>\n",
       "<tr><td>28-Nov-2017@22-54-55-DPMM</td><td>DPMM        </td><td style=\"text-align: right;\">                 2</td><td style=\"text-align: right;\">         </td><td>KLqp                </td><td>2017-11-28T22:54:55.815688</td><td>4395fdf updates restore dpmm session                </td><td>{'n_iter': 500}                                 </td><td style=\"text-align: right;\">   </td></tr>\n",
       "<tr><td>28-Nov-2017@23-22-39-DPMM</td><td>DPMM        </td><td style=\"text-align: right;\">                 2</td><td style=\"text-align: right;\">         </td><td>KLqp                </td><td>2017-11-28T23:22:39.799263</td><td>bdc6a02 updates restore functions                   </td><td>{'n_iter': 500}                                 </td><td style=\"text-align: right;\">   </td></tr>\n",
       "<tr><td>28-Nov-2017@22-51-07-DPMM</td><td>DPMM        </td><td style=\"text-align: right;\">                 2</td><td style=\"text-align: right;\">         </td><td>KLqp                </td><td>2017-11-28T22:51:07.079464</td><td>4395fdf updates restore dpmm session                </td><td>{'n_iter': 500}                                 </td><td style=\"text-align: right;\">   </td></tr>\n",
       "<tr><td>28-Nov-2017@17-32-31-GMM </td><td>GMM         </td><td style=\"text-align: right;\">                  </td><td style=\"text-align: right;\">     1000</td><td>Gibbs               </td><td>2017-11-28T17:32:31.536424</td><td>c1c5aa4 restore gmm now returns posterior predictive</td><td>                                                </td><td style=\"text-align: right;\">  2</td></tr>\n",
       "<tr><td>28-Nov-2017@22-56-00-DPMM</td><td>DPMM        </td><td style=\"text-align: right;\">                 2</td><td style=\"text-align: right;\">         </td><td>KLqp                </td><td>2017-11-28T22:56:00.439278</td><td>bdc6a02 updates restore functions                   </td><td>{'n_iter': 500}                                 </td><td style=\"text-align: right;\">   </td></tr>\n",
       "<tr><td>28-Nov-2017@22-50-12-DPMM</td><td>DPMM        </td><td style=\"text-align: right;\">                 5</td><td style=\"text-align: right;\">         </td><td>KLqp                </td><td>2017-11-28T22:50:12.425683</td><td>4395fdf updates restore dpmm session                </td><td>{'n_iter': 5000}                                </td><td style=\"text-align: right;\">   </td></tr>\n",
       "<tr><td>28-Nov-2017@22-48-35-DPMM</td><td>DPMM        </td><td style=\"text-align: right;\">                 5</td><td style=\"text-align: right;\">         </td><td>KLqp                </td><td>2017-11-28T22:48:35.978705</td><td>4395fdf updates restore dpmm session                </td><td>{'n_iter': 5000, 'n_print': 100, 'n_samples': 3}</td><td style=\"text-align: right;\">   </td></tr>\n",
       "</tbody>\n",
       "</table>"
      ],
      "text/plain": [
       "<neural_clustering.explore.table.Table at 0x11ad35ef0>"
      ]
     },
     "execution_count": 4,
     "metadata": {},
     "output_type": "execute_result"
    }
   ],
   "source": [
    "summarize_experiments(cfg)"
   ]
  },
  {
   "cell_type": "markdown",
   "metadata": {},
   "source": [
    "**Important**: due to problems with Edward's tensorflow sessions, it is required to restart the kernel when restoring session"
   ]
  },
  {
   "cell_type": "code",
   "execution_count": 5,
   "metadata": {
    "scrolled": false
   },
   "outputs": [
    {
     "data": {
      "text/plain": [
       "dict_keys(['sigmasq', 'qz', 'qmu', 'qbeta', 'x_train', 'params', 'x_pred'])"
      ]
     },
     "execution_count": 5,
     "metadata": {},
     "output_type": "execute_result"
    }
   ],
   "source": [
    "exp = restore.experiment(cfg, '28-Nov-2017@23-22-39-DPMM')\n",
    "exp.keys()"
   ]
  },
  {
   "cell_type": "code",
   "execution_count": 6,
   "metadata": {},
   "outputs": [],
   "source": [
    "x_pred = exp['x_pred']\n",
    "x_train = exp['x_train']"
   ]
  },
  {
   "cell_type": "markdown",
   "metadata": {},
   "source": [
    "# qpi (mixture proportions) over iterations"
   ]
  },
  {
   "cell_type": "code",
   "execution_count": 7,
   "metadata": {},
   "outputs": [
    {
     "ename": "KeyError",
     "evalue": "'qpi'",
     "output_type": "error",
     "traceback": [
      "\u001b[0;31m---------------------------------------------------------------------------\u001b[0m",
      "\u001b[0;31mKeyError\u001b[0m                                  Traceback (most recent call last)",
      "\u001b[0;32m<ipython-input-7-f11ec31ff557>\u001b[0m in \u001b[0;36m<module>\u001b[0;34m()\u001b[0m\n\u001b[0;32m----> 1\u001b[0;31m \u001b[0mplot\u001b[0m\u001b[0;34m.\u001b[0m\u001b[0mparams_over_iterations\u001b[0m\u001b[0;34m(\u001b[0m\u001b[0mexp\u001b[0m\u001b[0;34m[\u001b[0m\u001b[0;34m'qpi'\u001b[0m\u001b[0;34m]\u001b[0m\u001b[0;34m,\u001b[0m \u001b[0maxis\u001b[0m\u001b[0;34m=\u001b[0m\u001b[0;36m1\u001b[0m\u001b[0;34m)\u001b[0m\u001b[0;34m\u001b[0m\u001b[0m\n\u001b[0m",
      "\u001b[0;31mKeyError\u001b[0m: 'qpi'"
     ]
    }
   ],
   "source": [
    "plot.params_over_iterations(exp['qpi'], axis=1)"
   ]
  },
  {
   "cell_type": "markdown",
   "metadata": {},
   "source": [
    "# qmu (mixture centers) over iterations"
   ]
  },
  {
   "cell_type": "code",
   "execution_count": 8,
   "metadata": {},
   "outputs": [
    {
     "ename": "AttributeError",
     "evalue": "'Normal' object has no attribute 'params'",
     "output_type": "error",
     "traceback": [
      "\u001b[0;31m---------------------------------------------------------------------------\u001b[0m",
      "\u001b[0;31mAttributeError\u001b[0m                            Traceback (most recent call last)",
      "\u001b[0;32m<ipython-input-8-995ee5dfa7ce>\u001b[0m in \u001b[0;36m<module>\u001b[0;34m()\u001b[0m\n\u001b[0;32m----> 1\u001b[0;31m \u001b[0mplot\u001b[0m\u001b[0;34m.\u001b[0m\u001b[0mparams_over_iterations\u001b[0m\u001b[0;34m(\u001b[0m\u001b[0mexp\u001b[0m\u001b[0;34m[\u001b[0m\u001b[0;34m'qmu'\u001b[0m\u001b[0;34m]\u001b[0m\u001b[0;34m,\u001b[0m \u001b[0maxis\u001b[0m\u001b[0;34m=\u001b[0m\u001b[0;36m1\u001b[0m\u001b[0;34m)\u001b[0m\u001b[0;34m\u001b[0m\u001b[0m\n\u001b[0m",
      "\u001b[0;32m~/dev/lab/neural-clustering/src/neural_clustering/criticize/plot.py\u001b[0m in \u001b[0;36mparams_over_iterations\u001b[0;34m(param, axis, sharex, sharey)\u001b[0m\n\u001b[1;32m     11\u001b[0m         \u001b[0max\u001b[0m\u001b[0;34m.\u001b[0m\u001b[0mplot\u001b[0m\u001b[0;34m(\u001b[0m\u001b[0mdata\u001b[0m\u001b[0;34m)\u001b[0m\u001b[0;34m\u001b[0m\u001b[0m\n\u001b[1;32m     12\u001b[0m \u001b[0;34m\u001b[0m\u001b[0m\n\u001b[0;32m---> 13\u001b[0;31m     \u001b[0mvalues\u001b[0m \u001b[0;34m=\u001b[0m \u001b[0mparam\u001b[0m\u001b[0;34m.\u001b[0m\u001b[0mparams\u001b[0m\u001b[0;34m.\u001b[0m\u001b[0meval\u001b[0m\u001b[0;34m(\u001b[0m\u001b[0;34m)\u001b[0m\u001b[0;34m\u001b[0m\u001b[0m\n\u001b[0m\u001b[1;32m     14\u001b[0m \u001b[0;34m\u001b[0m\u001b[0m\n\u001b[1;32m     15\u001b[0m     _make_grid_plot_by_axis(single_parameter, values, axis, sharex, sharey,\n",
      "\u001b[0;31mAttributeError\u001b[0m: 'Normal' object has no attribute 'params'"
     ]
    }
   ],
   "source": [
    "plot.params_over_iterations(exp['qmu'], axis=1)"
   ]
  },
  {
   "cell_type": "markdown",
   "metadata": {},
   "source": [
    "# Get cluster ssignments, also save them in the sessions folder"
   ]
  },
  {
   "cell_type": "code",
   "execution_count": 9,
   "metadata": {},
   "outputs": [
    {
     "name": "stderr",
     "output_type": "stream",
     "text": [
      "INFO:neural_clustering.criticize.criticize:Cluster assignmens stored in /Users/Edu/data/neural-clustering-toy/sessions/28-Nov-2017@23-22-39-DPMM/clusters.npy\n"
     ]
    }
   ],
   "source": [
    "clusters = store_cluster_assignments(cfg, exp['x_train'], exp['qmu'], exp['params'])"
   ]
  },
  {
   "cell_type": "code",
   "execution_count": 10,
   "metadata": {},
   "outputs": [
    {
     "data": {
      "image/png": "[encoded data removed]",
      "text/plain": [
       "<matplotlib.figure.Figure at 0x11b305128>"
      ]
     },
     "metadata": {},
     "output_type": "display_data"
    }
   ],
   "source": [
    "plot.cluster_counts(clusters)"
   ]
  },
  {
   "cell_type": "markdown",
   "metadata": {},
   "source": [
    "## Log likelihood and mean squared error"
   ]
  },
  {
   "cell_type": "code",
   "execution_count": 11,
   "metadata": {},
   "outputs": [
    {
     "name": "stdout",
     "output_type": "stream",
     "text": [
      "Log likelihood is: -8313.49\n",
      "Mean squared error is: 27.23\n"
     ]
    }
   ],
   "source": [
    "log_lik = ed.evaluate('log_likelihood', data={x_pred: x_train})\n",
    "mse = ed.evaluate('mean_squared_error', data={x_pred: x_train})\n",
    "print(f'Log likelihood is: {log_lik:0.2f}')\n",
    "print(f'Mean squared error is: {mse:0.2f}')"
   ]
  },
  {
   "cell_type": "markdown",
   "metadata": {},
   "source": [
    "## Posterior predictive checks"
   ]
  },
  {
   "cell_type": "code",
   "execution_count": 12,
   "metadata": {},
   "outputs": [
    {
     "data": {
      "image/png": "[encoded data removed]",
      "text/plain": [
       "<matplotlib.figure.Figure at 0x11af13630>"
      ]
     },
     "metadata": {},
     "output_type": "display_data"
    }
   ],
   "source": [
    "ppc_plot(lambda xs, mus: tf.reduce_mean(xs[x_pred]), 'mean', x_pred, x_train)"
   ]
  },
  {
   "cell_type": "code",
   "execution_count": 13,
   "metadata": {},
   "outputs": [
    {
     "data": {
      "image/png": "[encoded data removed]",
      "text/plain": [
       "<matplotlib.figure.Figure at 0x121ce5f98>"
      ]
     },
     "metadata": {},
     "output_type": "display_data"
    }
   ],
   "source": [
    "ppc_plot(lambda xs, mus: tf.reduce_max(xs[x_pred]), 'max', x_pred, x_train)"
   ]
  },
  {
   "cell_type": "code",
   "execution_count": 14,
   "metadata": {},
   "outputs": [
    {
     "data": {
      "image/png": "[encoded data removed]",
      "text/plain": [
       "<matplotlib.figure.Figure at 0x11b01e6a0>"
      ]
     },
     "metadata": {},
     "output_type": "display_data"
    }
   ],
   "source": [
    "ppc_plot(lambda xs, mus: tf.reduce_min(xs[x_pred]), 'min', x_pred, x_train)"
   ]
  }
 ],
 "metadata": {
  "kernelspec": {
   "display_name": "Python 3",
   "language": "python",
   "name": "python3"
  },
  "language_info": {
   "codemirror_mode": {
    "name": "ipython",
    "version": 3
   },
   "file_extension": ".py",
   "mimetype": "text/x-python",
   "name": "python",
   "nbconvert_exporter": "python",
   "pygments_lexer": "ipython3",
   "version": "3.6.1"
  }
 },
 "nbformat": 4,
 "nbformat_minor": 2
}
