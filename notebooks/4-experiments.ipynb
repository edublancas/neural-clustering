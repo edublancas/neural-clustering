{
 "cells": [
  {
   "cell_type": "code",
   "execution_count": 8,
   "metadata": {},
   "outputs": [
    {
     "name": "stdout",
     "output_type": "stream",
     "text": [
      "The autoreload extension is already loaded. To reload it, use:\n",
      "  %reload_ext autoreload\n"
     ]
    }
   ],
   "source": [
    "%load_ext autoreload\n",
    "%autoreload 2\n",
    "%matplotlib inline\n",
    "\n",
    "import logging\n",
    "import os\n",
    "\n",
    "import numpy as np\n",
    "\n",
    "from neural_clustering.criticize import summarize_experiments\n",
    "from neural_clustering import config"
   ]
  },
  {
   "cell_type": "code",
   "execution_count": 15,
   "metadata": {},
   "outputs": [],
   "source": [
    "cfg = config.load('../config.yaml')"
   ]
  },
  {
   "cell_type": "code",
   "execution_count": 22,
   "metadata": {},
   "outputs": [
    {
     "data": {
      "text/html": [
       "<table>\n",
       "<thead>\n",
       "<tr><th>git_hash                                                </th><th>model_type  </th><th style=\"text-align: right;\">  k</th><th>inference_params  </th><th>name                     </th><th>inference_algoritm  </th><th style=\"text-align: right;\">  samples</th><th>timestamp                 </th><th style=\"text-align: right;\">  truncation_level</th></tr>\n",
       "</thead>\n",
       "<tbody>\n",
       "<tr><td>2b1ebdb adds functions to list and summarize experiments</td><td>GMM         </td><td style=\"text-align: right;\">  2</td><td>                  </td><td>22-Nov-2017@15-39-27-GMM </td><td>Gibbs               </td><td style=\"text-align: right;\">     1000</td><td>2017-11-22T15:39:27.451455</td><td style=\"text-align: right;\">                  </td></tr>\n",
       "<tr><td>2b1ebdb adds functions to list and summarize experiments</td><td>DPMM        </td><td style=\"text-align: right;\">   </td><td>                  </td><td>22-Nov-2017@15-38-28-DPMM</td><td>HMC                 </td><td style=\"text-align: right;\">     1000</td><td>2017-11-22T15:38:28.608858</td><td style=\"text-align: right;\">                 5</td></tr>\n",
       "</tbody>\n",
       "</table>"
      ],
      "text/plain": [
       "<neural_clustering.explore.table.Table at 0x11a0e9c18>"
      ]
     },
     "execution_count": 22,
     "metadata": {},
     "output_type": "execute_result"
    }
   ],
   "source": [
    "summarize_experiments(cfg)"
   ]
  }
 ],
 "metadata": {
  "kernelspec": {
   "display_name": "Python 3",
   "language": "python",
   "name": "python3"
  },
  "language_info": {
   "codemirror_mode": {
    "name": "ipython",
    "version": 3
   },
   "file_extension": ".py",
   "mimetype": "text/x-python",
   "name": "python",
   "nbconvert_exporter": "python",
   "pygments_lexer": "ipython3",
   "version": "3.6.1"
  }
 },
 "nbformat": 4,
 "nbformat_minor": 2
}
