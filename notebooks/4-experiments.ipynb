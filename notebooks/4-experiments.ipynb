{
 "cells": [
  {
   "cell_type": "code",
   "execution_count": 8,
   "metadata": {},
   "outputs": [
    {
     "name": "stdout",
     "output_type": "stream",
     "text": [
      "The autoreload extension is already loaded. To reload it, use:\n",
      "  %reload_ext autoreload\n"
     ]
    }
   ],
   "source": [
    "%load_ext autoreload\n",
    "%autoreload 2\n",
    "%matplotlib inline\n",
    "\n",
    "import logging\n",
    "import os\n",
    "\n",
    "import numpy as np\n",
    "\n",
    "from neural_clustering.criticize import summarize_experiments\n",
    "from neural_clustering import config"
   ]
  },
  {
   "cell_type": "code",
   "execution_count": 6,
   "metadata": {},
   "outputs": [],
   "source": [
    "cfg = config.load('../config.yaml')"
   ]
  },
  {
   "cell_type": "code",
   "execution_count": 13,
   "metadata": {},
   "outputs": [
    {
     "data": {
      "text/html": [
       "<table>\n",
       "<thead>\n",
       "<tr><th>git_hash                                                  </th><th>inference_algoritm  </th><th>inference_params                 </th><th>model_type  </th><th style=\"text-align: right;\">  samples</th><th>timestamp                 </th><th style=\"text-align: right;\">  truncation_level</th></tr>\n",
       "</thead>\n",
       "<tbody>\n",
       "<tr><td>1aebcf8 fixes some flake8 checks                          </td><td>HMC                 </td><td>{'n_steps': 2, 'step_size': 0.25}</td><td>DPMM        </td><td style=\"text-align: right;\">    10000</td><td>2017-11-15T10:59:03.454322</td><td style=\"text-align: right;\">                 5</td></tr>\n",
       "<tr><td>216631c functions for plotting distributions of parameters</td><td>HMC                 </td><td>                                 </td><td>DPMM        </td><td style=\"text-align: right;\">    10000</td><td>2017-11-22T15:24:56.576885</td><td style=\"text-align: right;\">                 5</td></tr>\n",
       "<tr><td>1aebcf8 fixes some flake8 checks                          </td><td>SGLD                </td><td>{'step_size': 0.25}              </td><td>DPMM        </td><td style=\"text-align: right;\">    10000</td><td>2017-11-15T10:59:24.104276</td><td style=\"text-align: right;\">                 5</td></tr>\n",
       "</tbody>\n",
       "</table>"
      ],
      "text/plain": [
       "<neural_clustering.explore.table.Table at 0x119609588>"
      ]
     },
     "execution_count": 13,
     "metadata": {},
     "output_type": "execute_result"
    }
   ],
   "source": [
    "summarize_experiments(cfg)"
   ]
  },
  {
   "cell_type": "code",
   "execution_count": null,
   "metadata": {},
   "outputs": [],
   "source": []
  }
 ],
 "metadata": {
  "kernelspec": {
   "display_name": "Python 3",
   "language": "python",
   "name": "python3"
  },
  "language_info": {
   "codemirror_mode": {
    "name": "ipython",
    "version": 3
   },
   "file_extension": ".py",
   "mimetype": "text/x-python",
   "name": "python",
   "nbconvert_exporter": "python",
   "pygments_lexer": "ipython3",
   "version": "3.6.1"
  }
 },
 "nbformat": 4,
 "nbformat_minor": 2
}
