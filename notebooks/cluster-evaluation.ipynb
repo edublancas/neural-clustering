{
 "cells": [
  {
   "cell_type": "markdown",
   "metadata": {},
   "source": [
    "# Setup"
   ]
  },
  {
   "cell_type": "code",
   "execution_count": 15,
   "metadata": {},
   "outputs": [
    {
     "name": "stdout",
     "output_type": "stream",
     "text": [
      "The autoreload extension is already loaded. To reload it, use:\n",
      "  %reload_ext autoreload\n"
     ]
    }
   ],
   "source": [
    "%load_ext autoreload\n",
    "%autoreload 2\n",
    "%matplotlib inline\n",
    "\n",
    "import logging\n",
    "import os\n",
    "\n",
    "import numpy as np\n",
    "\n",
    "from yass.neuralnet import NeuralNetDetector\n",
    "from yass.config import Config\n",
    "\n",
    "from neural_noise.explorer import (SpikeTrainExplorer,\n",
    "                                   RecordingExplorer)\n",
    "from neural_noise import config\n",
    "\n",
    "\n",
    "import matplotlib.pyplot as plt"
   ]
  },
  {
   "cell_type": "code",
   "execution_count": 33,
   "metadata": {},
   "outputs": [],
   "source": [
    "plt.style.use('ggplot')\n",
    "plt.rcParams['figure.figsize'] = (15, 15)"
   ]
  },
  {
   "cell_type": "code",
   "execution_count": 3,
   "metadata": {},
   "outputs": [],
   "source": [
    "logging.basicConfig(level=logging.ERROR)"
   ]
  },
  {
   "cell_type": "markdown",
   "metadata": {},
   "source": [
    "# Loading configuration files and YASS output"
   ]
  },
  {
   "cell_type": "code",
   "execution_count": 18,
   "metadata": {},
   "outputs": [],
   "source": [
    "# load configuration files\n",
    "cfg_yass = Config.from_yaml('../yass_config/local_100k.yaml')\n",
    "cfg = config.load('../config.yaml')"
   ]
  },
  {
   "cell_type": "code",
   "execution_count": 22,
   "metadata": {},
   "outputs": [],
   "source": [
    "# load data generated from yass\n",
    "files = ['score', 'clear_index', 'spike_times', 'spike_train', 'spike_left', 'templates']\n",
    "\n",
    "(score, clear_index,\n",
    " spike_times, spike_train,\n",
    " spike_left, templates) = [np.load(os.path.join(cfg['root'], 'yass/{}.npy'.format(f))) for f in  files]"
   ]
  },
  {
   "cell_type": "code",
   "execution_count": 23,
   "metadata": {},
   "outputs": [
    {
     "data": {
      "text/plain": [
       "((7,), (7,), (7,), (7,), (7, 31, 5))"
      ]
     },
     "execution_count": 23,
     "metadata": {},
     "output_type": "execute_result"
    }
   ],
   "source": [
    "score.shape, clear_index.shape, spike_times.shape, spike_left.shape,templates.shape"
   ]
  },
  {
   "cell_type": "markdown",
   "metadata": {},
   "source": [
    "# Loading raw recordings, geometry file and projection matrix"
   ]
  },
  {
   "cell_type": "code",
   "execution_count": 26,
   "metadata": {},
   "outputs": [],
   "source": [
    "# load standarized recordings (these are raw recordings + filter + standarization)\n",
    "path_to_recordings = os.path.join(cfg_yass.root, 'tmp/standarized.bin')\n",
    "# load gemetry file (position for every electro)\n",
    "path_to_geometry = os.path.join(cfg_yass.root, cfg_yass.geomFile)"
   ]
  },
  {
   "cell_type": "code",
   "execution_count": 28,
   "metadata": {},
   "outputs": [],
   "source": [
    "# load projection matrix (to reduce dimensionality)\n",
    "proj = NeuralNetDetector(cfg_yass).load_w_ae()"
   ]
  },
  {
   "cell_type": "markdown",
   "metadata": {},
   "source": [
    "# Initializing explorers"
   ]
  },
  {
   "cell_type": "code",
   "execution_count": 30,
   "metadata": {},
   "outputs": [],
   "source": [
    "# initialize explorers, these objects implement functions for plotting\n",
    "# the output from YASS\n",
    "explorer_rec = RecordingExplorer(path_to_recordings,\n",
    "                                 path_to_geometry,\n",
    "                                 dtype='float64',\n",
    "                                 window_size=cfg_yass.spikeSize,\n",
    "                                 n_channels=cfg_yass.nChan,\n",
    "                                 neighbor_radius=cfg_yass.spatialRadius)\n",
    "\n",
    "explorer_train = SpikeTrainExplorer(templates,\n",
    "                                    spike_train,\n",
    "                                    explorer_rec,\n",
    "                                    proj)"
   ]
  },
  {
   "cell_type": "code",
   "execution_count": null,
   "metadata": {},
   "outputs": [],
   "source": [
    "explorer_train.visualize_all_clusters(k=2)"
   ]
  },
  {
   "cell_type": "code",
   "execution_count": null,
   "metadata": {},
   "outputs": [],
   "source": []
  }
 ],
 "metadata": {
  "kernelspec": {
   "display_name": "Python 3",
   "language": "python",
   "name": "python3"
  },
  "language_info": {
   "codemirror_mode": {
    "name": "ipython",
    "version": 3
   },
   "file_extension": ".py",
   "mimetype": "text/x-python",
   "name": "python",
   "nbconvert_exporter": "python",
   "pygments_lexer": "ipython3",
   "version": "3.6.2"
  }
 },
 "nbformat": 4,
 "nbformat_minor": 1
}
