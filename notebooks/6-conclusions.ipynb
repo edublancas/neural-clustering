{
 "cells": [
  {
   "cell_type": "markdown",
   "metadata": {},
   "source": [
    "# Conclusions\n",
    "\n",
    "* Probabilistic progamming is extremely useful, our current clustering algorithm (MFM) is a black-box (no one else but the original programmer is able to modify it), furthermore, we have no way of evaluating performance in a probabilistic way since the outout of the algorithm are clustering assignments\n",
    "\n",
    "* The research team is investing a lot of effort in evaluating our current clustering algorithm (people are working on fancy plots) which is taken a lot of time. PPCs seem promising and we it will be great to use them but we first need to disentangle that black-box"
   ]
  }
 ],
 "metadata": {
  "kernelspec": {
   "display_name": "Python 3",
   "language": "python",
   "name": "python3"
  },
  "language_info": {
   "codemirror_mode": {
    "name": "ipython",
    "version": 3
   },
   "file_extension": ".py",
   "mimetype": "text/x-python",
   "name": "python",
   "nbconvert_exporter": "python",
   "pygments_lexer": "ipython3",
   "version": "3.6.1"
  }
 },
 "nbformat": 4,
 "nbformat_minor": 2
}
