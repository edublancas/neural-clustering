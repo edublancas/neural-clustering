{
 "cells": [
  {
   "cell_type": "markdown",
   "metadata": {},
   "source": [
    "# Conclusions\n",
    "\n",
    "* **Probabilistic programming is great**, it helped to quickly iterate experiments: trying out new models, inference algorithms and criticize every experiment\n",
    "\n",
    "* The research team I am working with has invested **a lot of effort** in evaluating our **current clustering algorithm (MFM)**, such algorithm is a **black-box** for everyone but the original programmer, since it was implemented from scratch (not probabilistic progamming at all)\n",
    "\n",
    "* The output are the clustering assignments, so **we do not have a way** of using probabilistic approaches (like PPCs) **to evaluate performance** without first disentangling the black-box\n",
    "\n",
    "* Although we are not currently using Edward in the YASS package (but I hope we start using it soon), the **results** from this project are **helping us improve YASS**. If we manage to implement the MFM algorithm in Edward, we might will merge it into YASS\n",
    "\n",
    "* Using Edward has the potential to severely impact the project's development in many ways: first, we will be able to better criticize our models and second, we will be able to provide more models to YASS users that may work better for their datasets\n",
    "\n",
    "* I am excited about whay I learned in the class, hopefully YASS will be running on Edward soon"
   ]
  }
 ],
 "metadata": {
  "kernelspec": {
   "display_name": "Python 3",
   "language": "python",
   "name": "python3"
  },
  "language_info": {
   "codemirror_mode": {
    "name": "ipython",
    "version": 3
   },
   "file_extension": ".py",
   "mimetype": "text/x-python",
   "name": "python",
   "nbconvert_exporter": "python",
   "pygments_lexer": "ipython3",
   "version": "3.6.1"
  }
 },
 "nbformat": 4,
 "nbformat_minor": 2
}
